{
 "cells": [
  {
   "metadata": {
    "ExecuteTime": {
     "end_time": "2024-10-25T09:43:42.408461Z",
     "start_time": "2024-10-25T09:43:42.402481Z"
    }
   },
   "cell_type": "code",
   "source": [
    "import pandas as pd\n",
    "import nltk\n",
    "import re\n",
    "import numpy as np"
   ],
   "id": "62eb35625b793872",
   "outputs": [],
   "execution_count": 279
  },
  {
   "metadata": {},
   "cell_type": "markdown",
   "source": "# Preprocessing",
   "id": "8a77807f92f26ee"
  },
  {
   "metadata": {
    "ExecuteTime": {
     "end_time": "2024-10-25T09:43:42.460054Z",
     "start_time": "2024-10-25T09:43:42.454811Z"
    }
   },
   "cell_type": "code",
   "source": [
    "def merge_cols(row, columns):\n",
    "    merged = ''\n",
    "    is_na = row.isna()\n",
    "    for col in columns:\n",
    "        if not is_na[col]:\n",
    "            merged = merged + row[col] + ' '\n",
    "    merged = merged[:-1]\n",
    "    return merged"
   ],
   "id": "a7c8123f6da2dde4",
   "outputs": [],
   "execution_count": 280
  },
  {
   "metadata": {
    "ExecuteTime": {
     "end_time": "2024-10-25T09:43:42.468434Z",
     "start_time": "2024-10-25T09:43:42.460054Z"
    }
   },
   "cell_type": "code",
   "source": [
    "def tokenize(text):\n",
    "    # Remove single periods, commas, apostrophes, quotes, and parentheses\n",
    "    text = re.sub(r'(?<!\\.)\\.(?!\\.)|,|\\'|\\\"|\\(|\\)|‘|’|“|”', '', text)\n",
    "    \n",
    "    # Use nltk to split into tokens\n",
    "    tokens = nltk.word_tokenize(text)\n",
    "    \n",
    "    # I'm leaving other punctuation since it can be an indicator of being spam, such as many exclamation marks, etc.\n",
    "    # nltk tokenize should mostly split those punctuations into their own tokens\n",
    "    \n",
    "    # remove stopwords and numbers\n",
    "    stopwords = set(nltk.corpus.stopwords.words('english'))\n",
    "    filtered = [w for w in tokens if not ((w.lower() in stopwords) or (w.isnumeric()))]\n",
    "    return filtered"
   ],
   "id": "5396018713f5f1bd",
   "outputs": [],
   "execution_count": 281
  },
  {
   "metadata": {
    "ExecuteTime": {
     "end_time": "2024-10-25T09:43:42.486580Z",
     "start_time": "2024-10-25T09:43:42.481393Z"
    }
   },
   "cell_type": "code",
   "source": [
    "def split(df):\n",
    "    \"\"\"\n",
    "    Removes *standard* punctuation and stop words\n",
    "    Concatenates all columns other than index\n",
    "    Leaves capitalization, as that information could be used as another feature\n",
    "    (e.g. number of all-caps words)\n",
    "    :param df:\n",
    "    :return: original dataframe, preprocessed dataframe\n",
    "    \"\"\"\n",
    "    text_cols = df.columns[1:]\n",
    "    out_df = pd.DataFrame(df.iloc[:, 0].values, columns=['class'])\n",
    "    out_df['body'] = df.apply(lambda row: tokenize(merge_cols(row, text_cols)), axis='columns')\n",
    "    return out_df"
   ],
   "id": "fbc121e30a2defb3",
   "outputs": [],
   "execution_count": 282
  },
  {
   "metadata": {
    "ExecuteTime": {
     "end_time": "2024-10-25T09:43:42.499100Z",
     "start_time": "2024-10-25T09:43:42.494362Z"
    }
   },
   "cell_type": "code",
   "source": [
    "def frequencies(df):\n",
    "    freqs = pd.DataFrame(index=pd.Index(data=[], name='token'), columns=['ham', 'spam'], dtype=int)\n",
    "    for i, row in df.iterrows():\n",
    "        for w in row['body']:\n",
    "            word = w.lower()\n",
    "            if word in freqs.index:\n",
    "                freqs.loc[word, row['class']] += 1\n",
    "            else:\n",
    "                freqs.loc[word, row['class']] = 1\n",
    "    freqs.fillna(0, inplace=True)\n",
    "    return freqs"
   ],
   "id": "9053a88da4047af8",
   "outputs": [],
   "execution_count": 283
  },
  {
   "metadata": {},
   "cell_type": "markdown",
   "source": [
    "# (Multinomial) Naive Bayes Classifier\n",
    "\n",
    "### For each word, use the probability that any given occurrence of that word is in a spam email or not in a spam email\n",
    "### To classify an email as spam or not, we check the probabilities of each occurence of each word within its body"
   ],
   "id": "c07bcfd7f0af90ba"
  },
  {
   "metadata": {
    "ExecuteTime": {
     "end_time": "2024-10-25T09:43:42.512676Z",
     "start_time": "2024-10-25T09:43:42.507640Z"
    }
   },
   "cell_type": "code",
   "source": [
    "def learn_nbc(freqs):\n",
    "    \"\"\"\n",
    "    Multinomial Naive Bayes Classifier\n",
    "    :param freqs: \n",
    "    :return: Probabilities df, priors\n",
    "    \"\"\"\n",
    "    probs = freqs.astype(float)\n",
    "    # For each cell, add 1 and divide by (number of total occurrences in class + number of distinct tokens)\n",
    "    for w in probs.index:\n",
    "        for cl in probs.columns:\n",
    "            probs.loc[w, cl] = (freqs.loc[w, cl] + 1) / (freqs[cl].sum() + freqs.shape[0])\n",
    "    total_occ = freqs.values.sum()\n",
    "    return probs, {cl: freqs[cl].sum() / total_occ for cl in ['ham', 'spam']}"
   ],
   "id": "886e678c9b0fedc4",
   "outputs": [],
   "execution_count": 284
  },
  {
   "metadata": {
    "ExecuteTime": {
     "end_time": "2024-10-25T09:43:42.525502Z",
     "start_time": "2024-10-25T09:43:42.520480Z"
    }
   },
   "cell_type": "code",
   "source": [
    "def nbc_predict(row, probs_df, priors):\n",
    "    words = row['body']\n",
    "    log_probs = {cl: 0 for cl in priors.keys()}\n",
    "    probs = {cl: 0 for cl in priors.keys()}\n",
    "    for cl in probs_df.columns:\n",
    "        for w in words:\n",
    "            if w not in probs_df.index:\n",
    "                # Does not affect probability in either direction\n",
    "                continue\n",
    "            log_probs[cl] += np.log(probs_df.loc[w.lower(), cl])\n",
    "        log_probs[cl] += priors[cl]\n",
    "        probs[cl] = np.exp(log_probs[cl])\n",
    "    if probs['ham'] > probs['spam']:\n",
    "        return 'ham'\n",
    "    else:\n",
    "        return 'spam'"
   ],
   "id": "841c708fb4c6c08",
   "outputs": [],
   "execution_count": 285
  },
  {
   "metadata": {
    "ExecuteTime": {
     "end_time": "2024-10-25T09:43:42.537316Z",
     "start_time": "2024-10-25T09:43:42.533129Z"
    }
   },
   "cell_type": "code",
   "source": [
    "def nbc_accuracy(test_df, probs_df, priors):\n",
    "    prediction = test_df.apply(lambda row: nbc_predict(row, probs_df, priors), axis=1, result_type='expand')\n",
    "    accuracy = 1 - prediction.compare(test_df['class']).shape[0] / test_df.shape[0]\n",
    "    return accuracy"
   ],
   "id": "10b54d0bc3ef1d22",
   "outputs": [],
   "execution_count": 286
  },
  {
   "metadata": {
    "ExecuteTime": {
     "end_time": "2024-10-25T09:43:42.551344Z",
     "start_time": "2024-10-25T09:43:42.545318Z"
    }
   },
   "cell_type": "code",
   "source": [
    "def nbc_test():\n",
    "    df = split(pd.read_csv('data/spam.csv', encoding = 'ISO-8859-1'))\n",
    "    train_df = df.sample(frac=0.8)\n",
    "    test_df = df.drop(train_df.index)\n",
    "    probs_df, priors = learn_nbc(frequencies(train_df))\n",
    "    \n",
    "    # Overall accuracy\n",
    "    print('Overall Accuracy')\n",
    "    train_accuracy = nbc_accuracy(train_df, probs_df, priors)\n",
    "    test_accuracy = nbc_accuracy(test_df, probs_df, priors)\n",
    "    print(f'Percentages of dataset: ham - {priors[\"ham\"]:.2f}, spam - {priors[\"spam\"]:.2f}')\n",
    "    print(f'Training Accuracy: {train_accuracy:.2f}')\n",
    "    print(f'Testing Accuracy: {test_accuracy:.2f}')\n",
    "    print('------------------------------')\n",
    "    # Ham Accuracy\n",
    "    print('Ham Accuracy')\n",
    "    train_ham = train_df[train_df['class'] == 'ham']\n",
    "    test_ham = test_df[test_df['class'] == 'ham']\n",
    "    train_ham_accuracy = nbc_accuracy(train_ham, probs_df, priors)\n",
    "    test_ham_accuracy = nbc_accuracy(test_ham, probs_df, priors)\n",
    "    print(f'Training Accuracy: {train_ham_accuracy:.2f}')\n",
    "    print(f'Testing Accuracy: {test_ham_accuracy:.2f}')\n",
    "    print('------------------------------')\n",
    "    # Spam Accuracy\n",
    "    print('Spam Accuracy')\n",
    "    train_spam = train_df[train_df['class'] == 'spam']\n",
    "    test_spam = test_df[test_df['class'] == 'spam']\n",
    "    train_spam_accuracy = nbc_accuracy(train_spam, probs_df, priors)\n",
    "    test_spam_accuracy = nbc_accuracy(test_spam, probs_df, priors)\n",
    "    print(f'Training Accuracy: {train_spam_accuracy:.2f}')\n",
    "    print(f'Testing Accuracy: {test_spam_accuracy:.2f}')\n",
    "    print('------------------------------')"
   ],
   "id": "123f8ef6870bad35",
   "outputs": [],
   "execution_count": 287
  },
  {
   "metadata": {
    "ExecuteTime": {
     "end_time": "2024-10-25T09:43:52.502462Z",
     "start_time": "2024-10-25T09:43:42.559701Z"
    }
   },
   "cell_type": "code",
   "source": "nbc_test()",
   "id": "a5e032a1a2d16dab",
   "outputs": [
    {
     "name": "stdout",
     "output_type": "stream",
     "text": [
      "Overall Accuracy\n",
      "Percentages of dataset: ham - 0.84, spam - 0.16\n",
      "Training Accuracy: 0.91\n",
      "Testing Accuracy: 0.90\n",
      "------------------------------\n",
      "Ham Accuracy\n",
      "Training Accuracy: 0.92\n",
      "Testing Accuracy: 0.92\n",
      "------------------------------\n",
      "Spam Accuracy\n",
      "Training Accuracy: 0.86\n",
      "Testing Accuracy: 0.83\n",
      "------------------------------\n"
     ]
    }
   ],
   "execution_count": 288
  },
  {
   "metadata": {},
   "cell_type": "markdown",
   "source": "### For the problem of determining spam emails especially, it is good to know how our algorithm performs in false positives vs false negatives, as looking at the overall accuracy does not tell the full picture (especially since non-spam emails are the vast majority of the dataset)",
   "id": "d8ecc5df67e5ab5e"
  }
 ],
 "metadata": {
  "kernelspec": {
   "display_name": "Python 3",
   "language": "python",
   "name": "python3"
  },
  "language_info": {
   "codemirror_mode": {
    "name": "ipython",
    "version": 2
   },
   "file_extension": ".py",
   "mimetype": "text/x-python",
   "name": "python",
   "nbconvert_exporter": "python",
   "pygments_lexer": "ipython2",
   "version": "2.7.6"
  }
 },
 "nbformat": 4,
 "nbformat_minor": 5
}
